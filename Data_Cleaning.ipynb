{
 "cells": [
  {
   "cell_type": "markdown",
   "id": "d1ee2826-e22a-43c9-a99a-2a3b188cb79d",
   "metadata": {},
   "source": [
    "# <span style=\"color:#1E90FF;\">Data Cleaning and Imputation Process for Cat Breeds Dataset</span>\n",
    "#"
   ]
  },
  {
   "cell_type": "markdown",
   "id": "528c6101-9ca0-4339-86ec-f56c8c18c58b",
   "metadata": {},
   "source": [
    "## <span style=\"color:#FF4500;\">1. Initial Data Inspection</span>"
   ]
  },
  {
   "cell_type": "code",
   "execution_count": 27,
   "id": "d52e051e-395f-4aba-89cf-8aa93d53425d",
   "metadata": {},
   "outputs": [],
   "source": [
    "import pandas as pd\n",
    "import numpy as np\n"
   ]
  },
  {
   "cell_type": "code",
   "execution_count": 28,
   "id": "d97d92a2-ad80-484c-b32d-2ece65389d73",
   "metadata": {},
   "outputs": [],
   "source": [
    "# Load the dataset with the correct delimiter and header\n",
    "file_path = \"cat_breeds_dirty.csv\"  # Replace with your file path\n",
    "df = pd.read_csv(file_path, delimiter=';')\n"
   ]
  },
  {
   "cell_type": "code",
   "execution_count": 29,
   "id": "2039e927-5c9f-423e-ac3f-436b86a71492",
   "metadata": {},
   "outputs": [
    {
     "data": {
      "text/html": [
       "<div>\n",
       "<style scoped>\n",
       "    .dataframe tbody tr th:only-of-type {\n",
       "        vertical-align: middle;\n",
       "    }\n",
       "\n",
       "    .dataframe tbody tr th {\n",
       "        vertical-align: top;\n",
       "    }\n",
       "\n",
       "    .dataframe thead th {\n",
       "        text-align: right;\n",
       "    }\n",
       "</style>\n",
       "<table border=\"1\" class=\"dataframe\">\n",
       "  <thead>\n",
       "    <tr style=\"text-align: right;\">\n",
       "      <th></th>\n",
       "      <th>Breed</th>\n",
       "      <th>Age_in_years</th>\n",
       "      <th>Age_in_months</th>\n",
       "      <th>Gender</th>\n",
       "      <th>Neutered_or_spayed</th>\n",
       "      <th>Body_length</th>\n",
       "      <th>Weight</th>\n",
       "      <th>Fur_colour_dominant</th>\n",
       "      <th>Fur_pattern</th>\n",
       "      <th>Eye_colour</th>\n",
       "      <th>Allowed_outdoor</th>\n",
       "      <th>Preferred_food</th>\n",
       "      <th>Owner_play_time_minutes</th>\n",
       "      <th>Sleep_time_hours</th>\n",
       "      <th>Country</th>\n",
       "      <th>Latitude</th>\n",
       "      <th>Longitude</th>\n",
       "    </tr>\n",
       "  </thead>\n",
       "  <tbody>\n",
       "    <tr>\n",
       "      <th>0</th>\n",
       "      <td>Angora</td>\n",
       "      <td>0.25</td>\n",
       "      <td>3.0</td>\n",
       "      <td>female</td>\n",
       "      <td>False</td>\n",
       "      <td>19.0</td>\n",
       "      <td>2.0</td>\n",
       "      <td>white</td>\n",
       "      <td>solid</td>\n",
       "      <td>blue</td>\n",
       "      <td>FALSE</td>\n",
       "      <td>wet</td>\n",
       "      <td>46.0</td>\n",
       "      <td>16.0</td>\n",
       "      <td>France</td>\n",
       "      <td>43.296482</td>\n",
       "      <td>5.369780</td>\n",
       "    </tr>\n",
       "    <tr>\n",
       "      <th>1</th>\n",
       "      <td>Angora</td>\n",
       "      <td>0.33</td>\n",
       "      <td>4.0</td>\n",
       "      <td>male</td>\n",
       "      <td>False</td>\n",
       "      <td>19.0</td>\n",
       "      <td>2.5</td>\n",
       "      <td>white</td>\n",
       "      <td>solid</td>\n",
       "      <td>blue</td>\n",
       "      <td>FALSE</td>\n",
       "      <td>wet</td>\n",
       "      <td>48.0</td>\n",
       "      <td>16.0</td>\n",
       "      <td>France</td>\n",
       "      <td>43.611660</td>\n",
       "      <td>3.877710</td>\n",
       "    </tr>\n",
       "    <tr>\n",
       "      <th>2</th>\n",
       "      <td>Angora</td>\n",
       "      <td>0.50</td>\n",
       "      <td>NaN</td>\n",
       "      <td>NaN</td>\n",
       "      <td>False</td>\n",
       "      <td>20.0</td>\n",
       "      <td>2.8</td>\n",
       "      <td>what does it mean dominant?</td>\n",
       "      <td>solid</td>\n",
       "      <td>green</td>\n",
       "      <td>I never allow my kitty outside!!!!!</td>\n",
       "      <td>wet</td>\n",
       "      <td>41.0</td>\n",
       "      <td>11.0</td>\n",
       "      <td>France</td>\n",
       "      <td>44.837789</td>\n",
       "      <td>-0.579180</td>\n",
       "    </tr>\n",
       "    <tr>\n",
       "      <th>3</th>\n",
       "      <td>Ankora</td>\n",
       "      <td>0.50</td>\n",
       "      <td>NaN</td>\n",
       "      <td>NaN</td>\n",
       "      <td>False</td>\n",
       "      <td>21.0</td>\n",
       "      <td>3.0</td>\n",
       "      <td>white</td>\n",
       "      <td>dirty</td>\n",
       "      <td>blue</td>\n",
       "      <td>FALSE</td>\n",
       "      <td>wet</td>\n",
       "      <td>24.0</td>\n",
       "      <td>8.0</td>\n",
       "      <td>France</td>\n",
       "      <td>43.611660</td>\n",
       "      <td>3.877710</td>\n",
       "    </tr>\n",
       "    <tr>\n",
       "      <th>4</th>\n",
       "      <td>Angora</td>\n",
       "      <td>0.50</td>\n",
       "      <td>NaN</td>\n",
       "      <td>NaN</td>\n",
       "      <td>NaN</td>\n",
       "      <td>21.0</td>\n",
       "      <td>3.0</td>\n",
       "      <td>red/cream</td>\n",
       "      <td>tabby</td>\n",
       "      <td>green</td>\n",
       "      <td>FALSE</td>\n",
       "      <td>wet</td>\n",
       "      <td>51.0</td>\n",
       "      <td>10.0</td>\n",
       "      <td>france</td>\n",
       "      <td>48.864716</td>\n",
       "      <td>2.349014</td>\n",
       "    </tr>\n",
       "  </tbody>\n",
       "</table>\n",
       "</div>"
      ],
      "text/plain": [
       "    Breed  Age_in_years  Age_in_months  Gender Neutered_or_spayed  \\\n",
       "0  Angora          0.25            3.0  female              False   \n",
       "1  Angora          0.33            4.0    male              False   \n",
       "2  Angora          0.50            NaN     NaN              False   \n",
       "3  Ankora          0.50            NaN     NaN              False   \n",
       "4  Angora          0.50            NaN     NaN                NaN   \n",
       "\n",
       "   Body_length  Weight          Fur_colour_dominant Fur_pattern Eye_colour  \\\n",
       "0         19.0     2.0                        white       solid       blue   \n",
       "1         19.0     2.5                        white       solid       blue   \n",
       "2         20.0     2.8  what does it mean dominant?       solid      green   \n",
       "3         21.0     3.0                        white       dirty       blue   \n",
       "4         21.0     3.0                    red/cream       tabby      green   \n",
       "\n",
       "                       Allowed_outdoor Preferred_food  \\\n",
       "0                                FALSE            wet   \n",
       "1                                FALSE            wet   \n",
       "2  I never allow my kitty outside!!!!!            wet   \n",
       "3                                FALSE            wet   \n",
       "4                                FALSE            wet   \n",
       "\n",
       "   Owner_play_time_minutes  Sleep_time_hours Country   Latitude  Longitude  \n",
       "0                     46.0              16.0  France  43.296482   5.369780  \n",
       "1                     48.0              16.0  France  43.611660   3.877710  \n",
       "2                     41.0              11.0  France  44.837789  -0.579180  \n",
       "3                     24.0               8.0  France  43.611660   3.877710  \n",
       "4                     51.0              10.0  france  48.864716   2.349014  "
      ]
     },
     "execution_count": 29,
     "metadata": {},
     "output_type": "execute_result"
    }
   ],
   "source": [
    "df.head()"
   ]
  },
  {
   "cell_type": "markdown",
   "id": "f8c96e7b-e1b6-4ab2-96c0-7aa73a2f1903",
   "metadata": {},
   "source": [
    "- Loaded the dataset and inspected the first few rows to understand its structure.\n",
    "- Detected that the data was separated by semicolons (`;`) instead of commas, and adjusted the loading method accordingly.\n",
    "- Verified the presence of a proper header row and set it as the column names."
   ]
  },
  {
   "cell_type": "markdown",
   "id": "96953b8b-5fab-4b54-82ab-36b50254448e",
   "metadata": {},
   "source": [
    "#\n",
    "## <span style=\"color:#FF4500;\">2. Data Type Consistency</span>"
   ]
  },
  {
   "cell_type": "code",
   "execution_count": 30,
   "id": "bcbc692e-18e7-44be-ae9d-c489b95d0f61",
   "metadata": {},
   "outputs": [
    {
     "name": "stdout",
     "output_type": "stream",
     "text": [
      "<class 'pandas.core.frame.DataFrame'>\n",
      "RangeIndex: 1103 entries, 0 to 1102\n",
      "Data columns (total 17 columns):\n",
      " #   Column                   Non-Null Count  Dtype  \n",
      "---  ------                   --------------  -----  \n",
      " 0   Breed                    991 non-null    object \n",
      " 1   Age_in_years             1072 non-null   float64\n",
      " 2   Age_in_months            1066 non-null   float64\n",
      " 3   Gender                   1036 non-null   object \n",
      " 4   Neutered_or_spayed       1050 non-null   object \n",
      " 5   Body_length              1077 non-null   float64\n",
      " 6   Weight                   1077 non-null   float64\n",
      " 7   Fur_colour_dominant      1090 non-null   object \n",
      " 8   Fur_pattern              1055 non-null   object \n",
      " 9   Eye_colour               1064 non-null   object \n",
      " 10  Allowed_outdoor          1060 non-null   object \n",
      " 11  Preferred_food           1082 non-null   object \n",
      " 12  Owner_play_time_minutes  1082 non-null   float64\n",
      " 13  Sleep_time_hours         1062 non-null   float64\n",
      " 14  Country                  1028 non-null   object \n",
      " 15  Latitude                 1042 non-null   float64\n",
      " 16  Longitude                1042 non-null   float64\n",
      "dtypes: float64(8), object(9)\n",
      "memory usage: 146.6+ KB\n"
     ]
    }
   ],
   "source": [
    "df.info()"
   ]
  },
  {
   "cell_type": "code",
   "execution_count": 31,
   "id": "ef001636-121c-438b-b2bd-aa34815e65d5",
   "metadata": {},
   "outputs": [],
   "source": [
    "df = df.convert_dtypes()"
   ]
  },
  {
   "cell_type": "code",
   "execution_count": 32,
   "id": "30449684-ff4c-44ff-9c1a-e0dbf091d4b2",
   "metadata": {},
   "outputs": [
    {
     "name": "stdout",
     "output_type": "stream",
     "text": [
      "<class 'pandas.core.frame.DataFrame'>\n",
      "RangeIndex: 1103 entries, 0 to 1102\n",
      "Data columns (total 17 columns):\n",
      " #   Column                   Non-Null Count  Dtype  \n",
      "---  ------                   --------------  -----  \n",
      " 0   Breed                    991 non-null    string \n",
      " 1   Age_in_years             1072 non-null   Float64\n",
      " 2   Age_in_months            1066 non-null   Int64  \n",
      " 3   Gender                   1036 non-null   string \n",
      " 4   Neutered_or_spayed       1050 non-null   boolean\n",
      " 5   Body_length              1077 non-null   Int64  \n",
      " 6   Weight                   1077 non-null   Float64\n",
      " 7   Fur_colour_dominant      1090 non-null   string \n",
      " 8   Fur_pattern              1055 non-null   string \n",
      " 9   Eye_colour               1064 non-null   string \n",
      " 10  Allowed_outdoor          1060 non-null   string \n",
      " 11  Preferred_food           1082 non-null   string \n",
      " 12  Owner_play_time_minutes  1082 non-null   Int64  \n",
      " 13  Sleep_time_hours         1062 non-null   Int64  \n",
      " 14  Country                  1028 non-null   string \n",
      " 15  Latitude                 1042 non-null   Float64\n",
      " 16  Longitude                1042 non-null   Float64\n",
      "dtypes: Float64(4), Int64(4), boolean(1), string(8)\n",
      "memory usage: 148.8 KB\n"
     ]
    }
   ],
   "source": [
    "df.info()"
   ]
  },
  {
   "cell_type": "markdown",
   "id": "a2aeace7-82c5-4569-851d-866f66561813",
   "metadata": {},
   "source": [
    "Summary:\n",
    "convert_dtypes() improves column data types for consistency, missing value support, and analysis. It's especially helpful after loading messy or mixed-type datasets."
   ]
  },
  {
   "cell_type": "markdown",
   "id": "06e60d76-ecce-4e1f-bbe7-205db3918a6f",
   "metadata": {},
   "source": [
    "- Converted columns to appropriate data types (e.g., numeric, categorical, boolean) to ensure consistency.\n",
    "- Checked for columns containing mixed data types and standardized them."
   ]
  },
  {
   "cell_type": "markdown",
   "id": "a493e7b7-ec09-463d-ac10-7cee0795c098",
   "metadata": {},
   "source": [
    "#\n",
    "## <span style=\"color:#FF4500;\">3. Whitespace and Formatting Cleanup</span>"
   ]
  },
  {
   "cell_type": "code",
   "execution_count": 33,
   "id": "d8550a23-32fe-409a-846f-eafc11bc5965",
   "metadata": {},
   "outputs": [],
   "source": [
    "# Trim whitespace and fix double spaces in string columns\n",
    "\n",
    "str_cols = df.select_dtypes(include='string').columns\n",
    "for col in str_cols:\n",
    "    df[col] = df[col].str.strip().str.replace(r'\\s+', ' ', regex=True)"
   ]
  },
  {
   "cell_type": "code",
   "execution_count": 34,
   "id": "95484908-df54-4e55-9575-6d5b69b50396",
   "metadata": {},
   "outputs": [],
   "source": [
    "# Standardize categorical values (example: capitalize country names)\n",
    "\n",
    "if 'Country' in df.columns:\n",
    "    df['Country'] = df['Country'].str.capitalize()"
   ]
  },
  {
   "cell_type": "markdown",
   "id": "c8445e2f-2278-4dcb-a609-2dfa3e1d322b",
   "metadata": {},
   "source": [
    "- Trimmed leading and trailing whitespaces from all string columns.\n",
    "- Replaced multiple spaces within strings with a single space.\n",
    "- Standardized categorical values (e.g., capitalizing country names) to avoid duplicates caused by casing differences."
   ]
  },
  {
   "cell_type": "markdown",
   "id": "13ae5615-b354-4419-9f47-746d56736c2e",
   "metadata": {},
   "source": [
    "#\n",
    "## <span style=\"color:#FF4500;\">4. Handling Missing Values</span>"
   ]
  },
  {
   "cell_type": "code",
   "execution_count": 35,
   "id": "d66259d8-8538-4b0b-bdb7-222239ab267e",
   "metadata": {},
   "outputs": [
    {
     "data": {
      "text/plain": [
       "Breed                      112\n",
       "Country                     75\n",
       "Gender                      67\n",
       "Latitude                    61\n",
       "Longitude                   61\n",
       "Neutered_or_spayed          53\n",
       "Fur_pattern                 48\n",
       "Allowed_outdoor             43\n",
       "Sleep_time_hours            41\n",
       "Eye_colour                  39\n",
       "Age_in_months               37\n",
       "Age_in_years                31\n",
       "Body_length                 26\n",
       "Weight                      26\n",
       "Preferred_food              21\n",
       "Owner_play_time_minutes     21\n",
       "Fur_colour_dominant         13\n",
       "dtype: int64"
      ]
     },
     "execution_count": 35,
     "metadata": {},
     "output_type": "execute_result"
    }
   ],
   "source": [
    "# Identify columns with missing values and their data types\n",
    "\n",
    "missing_info = df.isna().sum()\n",
    "missing_info = missing_info[missing_info > 0].sort_values(ascending=False)\n",
    "\n",
    "missing_info"
   ]
  },
  {
   "cell_type": "markdown",
   "id": "fbbe99be-409d-474e-b671-f569c6e01cec",
   "metadata": {},
   "source": [
    "- Identified columns with missing values and their counts."
   ]
  },
  {
   "cell_type": "markdown",
   "id": "a9f5b6e0-af4f-49fe-84c0-3958f3c7ea59",
   "metadata": {},
   "source": [
    "#\n",
    "## <span style=\"color:#FF4500;\">5. Imputation Strategy</span>\n"
   ]
  },
  {
   "cell_type": "code",
   "execution_count": 36,
   "id": "e86c60a6-47dc-4071-89dc-3b76fd2bd49e",
   "metadata": {},
   "outputs": [],
   "source": [
    "# Replace unclear values with NaN for imputation\n",
    "\n",
    "if 'Fur_colour_dominant' in df.columns:\n",
    "    df['Fur_colour_dominant'] = df['Fur_colour_dominant'].replace('what does it mean dominant?', pd.NA)"
   ]
  },
  {
   "cell_type": "code",
   "execution_count": 37,
   "id": "366f337f-73bd-4609-b97f-ab2bc9b0ba82",
   "metadata": {},
   "outputs": [],
   "source": [
    "# Define columns by type for imputation\n",
    "\n",
    "numerical_cols = df.select_dtypes(include=['Int64', 'Float64']).columns.tolist()\n",
    "categorical_cols = df.select_dtypes(include=['string', 'boolean']).columns.tolist()"
   ]
  },
  {
   "cell_type": "code",
   "execution_count": 38,
   "id": "9e2be800-5899-4458-9d4b-328bbcf9dbf4",
   "metadata": {},
   "outputs": [],
   "source": [
    "# Fill numerical columns with median\n",
    "\n",
    "for col in numerical_cols:\n",
    "    median_value = df[col].median()\n",
    "    df[col] = df[col].fillna(median_value)\n"
   ]
  },
  {
   "cell_type": "code",
   "execution_count": 39,
   "id": "b89229c3-b36e-49f9-8e02-7503508c0f19",
   "metadata": {},
   "outputs": [],
   "source": [
    "# Fill categorical columns with mode\n",
    "\n",
    "for col in categorical_cols:\n",
    "    mode_value = df[col].mode(dropna=True)\n",
    "    if not mode_value.empty:\n",
    "        df[col] = df[col].fillna(mode_value[0])"
   ]
  },
  {
   "cell_type": "markdown",
   "id": "480ec007-6f2f-44f1-9a01-31a9af93c844",
   "metadata": {},
   "source": [
    "- For numerical columns (e.g., Age, Weight, Body Length):\n",
    "  - Filled missing values with the **median** of the respective column to reduce the impact of outliers.\n",
    "- For categorical columns (e.g., Breed, Gender, Fur Color):\n",
    "  - Filled missing values with the **mode** (most frequent value) of the respective column to maintain category consistency.\n",
    "- For columns with unclear or invalid entries (e.g., \"what does it mean dominant?\"):\n",
    "  - Replaced such entries with missing values before applying imputation."
   ]
  },
  {
   "cell_type": "markdown",
   "id": "5cb94657-0878-4730-acb9-3ee0ebaa3786",
   "metadata": {},
   "source": [
    "#\n",
    "## <span style=\"color:#FF4500;\">6. Final Verification and Export</span>"
   ]
  },
  {
   "cell_type": "code",
   "execution_count": 40,
   "id": "eba28a59-f3fc-460b-9ff6-d808a7341af1",
   "metadata": {},
   "outputs": [
    {
     "name": "stdout",
     "output_type": "stream",
     "text": [
      "Total missing values after imputation: 0\n"
     ]
    }
   ],
   "source": [
    "# Verify no missing values remain\n",
    "\n",
    "missing_after_fill = df.isna().sum().sum()\n",
    "print(f'Total missing values after imputation: {missing_after_fill}')"
   ]
  },
  {
   "cell_type": "code",
   "execution_count": 41,
   "id": "bdb71811-dbba-4112-85e9-850f03a5355c",
   "metadata": {},
   "outputs": [
    {
     "name": "stdout",
     "output_type": "stream",
     "text": [
      "Cleaned dataset saved to cleaned_dataset.csv\n"
     ]
    }
   ],
   "source": [
    "# Save the cleaned and imputed dataset\n",
    "\n",
    "output_path = 'cleaned_dataset.csv'  \n",
    "df.to_csv(output_path, index=False)\n",
    "print(f'Cleaned dataset saved to {output_path}')"
   ]
  },
  {
   "cell_type": "markdown",
   "id": "1cfb4970-d452-44a6-ac43-8c8cd2b2ea18",
   "metadata": {},
   "source": [
    "- Verified that no missing values remained after imputation.\n",
    "- Saved the cleaned and imputed dataset as a CSV file for further analysis or sharing.\n"
   ]
  },
  {
   "cell_type": "markdown",
   "id": "faaa7b46-5963-4123-a09f-49ea7ebb04ae",
   "metadata": {},
   "source": [
    "#\n",
    "## <span style=\"color:#32CD32;\">Summary</span>\n"
   ]
  },
  {
   "cell_type": "markdown",
   "id": "68ac9bcd-ce71-4c16-adb0-e91c1ca48642",
   "metadata": {},
   "source": [
    "This process ensures that the dataset is clean, consistent, and ready for analysis or modeling. Proper handling of missing data and data types improves the quality and reliability of insights derived from the data.\n"
   ]
  },
  {
   "cell_type": "code",
   "execution_count": null,
   "id": "41c1b268-2fa0-4c58-a1c4-d873f84605ae",
   "metadata": {},
   "outputs": [],
   "source": []
  }
 ],
 "metadata": {
  "kernelspec": {
   "display_name": "Python 3 (ipykernel)",
   "language": "python",
   "name": "python3"
  },
  "language_info": {
   "codemirror_mode": {
    "name": "ipython",
    "version": 3
   },
   "file_extension": ".py",
   "mimetype": "text/x-python",
   "name": "python",
   "nbconvert_exporter": "python",
   "pygments_lexer": "ipython3",
   "version": "3.12.7"
  }
 },
 "nbformat": 4,
 "nbformat_minor": 5
}
